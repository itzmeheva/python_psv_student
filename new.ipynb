{
 "cells": [
  {
   "cell_type": "code",
   "execution_count": 1,
   "metadata": {},
   "outputs": [
    {
     "name": "stdout",
     "output_type": "stream",
     "text": [
      "Hi\n"
     ]
    }
   ],
   "source": [
    "print(\"Hi\")"
   ]
  },
  {
   "cell_type": "code",
   "execution_count": 2,
   "metadata": {},
   "outputs": [
    {
     "name": "stdout",
     "output_type": "stream",
     "text": [
      "Twinkle, twinkle, little star,\n",
      "\t How I wonder what you are!\n",
      "\t\t Up above the world so high,\n",
      "\t\t Like a diamond in the sky.\n",
      "Twinkle, twinkle, little star,\n",
      "\t How I wonder what you are\n"
     ]
    }
   ],
   "source": [
    "print(\"Twinkle, twinkle, little star,\\n\\t How I wonder what you are!\\n\\t\\t Up above the world so high,\\n\\t\\t Like a diamond in the sky.\\nTwinkle, twinkle, little star,\\n\\t How I wonder what you are\")"
   ]
  },
  {
   "cell_type": "code",
   "execution_count": 3,
   "metadata": {},
   "outputs": [
    {
     "name": "stdout",
     "output_type": "stream",
     "text": [
      "ooopython version\n",
      "3.11.4 (tags/v3.11.4:d2340ef, Jun  7 2023, 05:45:37) [MSC v.1934 64 bit (AMD64)]\n",
      "sys.version_info(major=3, minor=11, micro=4, releaselevel='final', serial=0)\n"
     ]
    }
   ],
   "source": [
    "import sys\n",
    "print(\"ooopython version\")\n",
    "print(sys.version)\n",
    "print(sys.version_info)"
   ]
  },
  {
   "cell_type": "markdown",
   "metadata": {},
   "source": [
    "3. Write a Python program to display the current date and time.\n",
    "Sample Output :\n",
    "Current date and time :\n",
    "2014-07-05 14:34:14"
   ]
  },
  {
   "cell_type": "code",
   "execution_count": 23,
   "metadata": {},
   "outputs": [
    {
     "name": "stdout",
     "output_type": "stream",
     "text": [
      "09/22/23 10:38:51\n",
      "2023 09 22  10 38 51\n"
     ]
    }
   ],
   "source": [
    "import datetime\n",
    "now=datetime.datetime.now()\n",
    "print(now.strftime(\"%D %T\"))       #date %D - for print full date time %T - for print time with h,m,s\n",
    "print(now.strftime(\"%Y %m %d  %H %M %S\"))    #%y print 23    %Y print 2023    %m for print current month"
   ]
  },
  {
   "cell_type": "markdown",
   "metadata": {},
   "source": [
    "4. Write a Python program that calculates the area of a circle based on the radius entered by the user.\n",
    "Sample Output :\n",
    "r = 1.1\n",
    "Area = 3.8013271108436504"
   ]
  },
  {
   "cell_type": "code",
   "execution_count": 28,
   "metadata": {},
   "outputs": [
    {
     "name": "stdout",
     "output_type": "stream",
     "text": [
      "3.8013271108436504\n"
     ]
    }
   ],
   "source": [
    "import math\n",
    "r=float(input(\"enter the radius\"))\n",
    "x=math.pi*r**2\n",
    "print(x)"
   ]
  },
  {
   "cell_type": "markdown",
   "metadata": {},
   "source": [
    "5. Write a Python program that accepts the user's first and last name and prints them in reverse order with a space between them."
   ]
  },
  {
   "cell_type": "code",
   "execution_count": 33,
   "metadata": {},
   "outputs": [
    {
     "name": "stdout",
     "output_type": "stream",
     "text": [
      "Hello Shree Indhu Papa!\n"
     ]
    }
   ],
   "source": [
    "fname=input(\"enter the first name:\")\n",
    "lname=input(\"enter the last name:\")\n",
    "print(\"Hello \" + lname +\" \" +fname +\" Papa!\")"
   ]
  },
  {
   "cell_type": "code",
   "execution_count": 53,
   "metadata": {},
   "outputs": [
    {
     "name": "stdout",
     "output_type": "stream",
     "text": [
      "['22', ' 23', '24', '25']\n",
      "('22', ' 23', '24', '25')\n"
     ]
    }
   ],
   "source": [
    "a=input(\"enter some numbers:\")\n",
    "l=a.split(',')\n",
    "t=tuple(l)\n",
    "print(l)\n",
    "print(t)"
   ]
  },
  {
   "cell_type": "markdown",
   "metadata": {},
   "source": [
    "print boys and girls name"
   ]
  },
  {
   "cell_type": "code",
   "execution_count": 46,
   "metadata": {},
   "outputs": [
    {
     "name": "stdout",
     "output_type": "stream",
     "text": [
      "Anandhi\n",
      "mathi\n",
      "revathi\n"
     ]
    }
   ],
   "source": [
    "def boys():\n",
    "    print(\"saran\\nram\\nabi\\nbala\")\n",
    "def girls():\n",
    "    print(\"Anandhi\\nmathi\\nrevathi\")\n",
    "a=input(\"enter B or G :\")\n",
    "if a=='b' or a=='B':\n",
    "    boys()\n",
    "elif a=='g' or a=='G':\n",
    "    girls()\n",
    "else:\n",
    "    print(\"enter the correct input\")"
   ]
  },
  {
   "cell_type": "markdown",
   "metadata": {},
   "source": [
    "7. Write a Python program that accepts a filename from the user and prints the extension of the file.\n",
    "Sample filename : abc.java\n",
    "Output : java"
   ]
  },
  {
   "cell_type": "code",
   "execution_count": 58,
   "metadata": {},
   "outputs": [
    {
     "name": "stdout",
     "output_type": "stream",
     "text": [
      "the file extension is: java\n"
     ]
    }
   ],
   "source": [
    "fn=input(\"enter the file name: \")\n",
    "s=fn.split('.')\n",
    "ex=s[-1]                        #or we use ex=s[1]\n",
    "print(\"the file extension is: {}\".format(ex))"
   ]
  },
  {
   "cell_type": "markdown",
   "metadata": {},
   "source": [
    "8. Write a Python program to display the first and last colors from the following list.\n",
    "color_list = [\"Red\",\"Green\",\"White\" ,\"Black\"]"
   ]
  },
  {
   "cell_type": "code",
   "execution_count": 62,
   "metadata": {},
   "outputs": [
    {
     "name": "stdout",
     "output_type": "stream",
     "text": [
      "Green Black\n"
     ]
    }
   ],
   "source": [
    "l=[\"Red\",\"Green\",\"White\" ,\"Black\"]\n",
    "print(l[1],l[-1])"
   ]
  },
  {
   "cell_type": "code",
   "execution_count": 59,
   "metadata": {},
   "outputs": [
    {
     "name": "stdout",
     "output_type": "stream",
     "text": [
      "[2, 4, 6, 8]\n"
     ]
    }
   ],
   "source": [
    "list=[1,2,3,4,5,6,7,8,9]\n",
    "print(list[1:9:2])"
   ]
  },
  {
   "cell_type": "markdown",
   "metadata": {},
   "source": [
    "9. Write a Python program to display the examination schedule. (extract the date from exam_st_date).\n",
    "exam_st_date = (11, 12, 2014)\n",
    "Sample Output : The examination will start from : 11 / 12 / 2014"
   ]
  },
  {
   "cell_type": "code",
   "execution_count": 63,
   "metadata": {},
   "outputs": [
    {
     "name": "stdout",
     "output_type": "stream",
     "text": [
      "11/12/2014\n"
     ]
    }
   ],
   "source": [
    "exam_st_date = (11, 12, 2014)\n",
    "print(\"%i/%i/%i\"%exam_st_date)"
   ]
  },
  {
   "cell_type": "code",
   "execution_count": 1,
   "metadata": {},
   "outputs": [
    {
     "name": "stdout",
     "output_type": "stream",
     "text": [
      "aaa Male\n"
     ]
    }
   ],
   "source": [
    "class Student():\n",
    "    dept=\"CSE\"\n",
    "    def __init__(self,name,rno,gender):\n",
    "        self.name=name\n",
    "        self.rno=rno\n",
    "        self.gender=gender\n",
    "    def __str__(str):\n",
    "        return self.name\n",
    "x=Student(\"aaa\",16 , \"Male\")\n",
    "print(x.name,x.gender)\n"
   ]
  },
  {
   "cell_type": "code",
   "execution_count": 79,
   "metadata": {},
   "outputs": [
    {
     "name": "stdout",
     "output_type": "stream",
     "text": [
      "aaa Male\n",
      "CSE\n"
     ]
    }
   ],
   "source": [
    "class Student():\n",
    "    dept=\"CSE\"\n",
    "    def __init__(self,name,rno,gender):\n",
    "        self.name=name\n",
    "        self.rno=rno\n",
    "        self.gender=gender\n",
    "    def __str__(str):\n",
    "        return self.name\n",
    "x=Student(\"aaa\",16 , \"Male\")\n",
    "print(x.name,x.gender)\n",
    "print(x.dept)\n",
    "class Mark(Student):\n",
    "    def marks(self,m1,m2,m3):\n",
    "        self.m1=m1\n",
    "        self.m2=m2\n",
    "        self.m3=m3\n",
    "\n",
    "    \n"
   ]
  },
  {
   "cell_type": "code",
   "execution_count": 6,
   "metadata": {},
   "outputs": [
    {
     "name": "stdout",
     "output_type": "stream",
     "text": [
      "Hema TPT Female maths\n",
      "Hello Everyone. I am  Hema  I am from TPT Thankyou\n",
      "None\n",
      "My Fav subject is  maths\n",
      "None\n",
      "Shree VNB Female English\n",
      "Hello Everyone. I am  Shree  I am from VNB Thankyou\n",
      "None\n",
      "My Fav subject is  English\n",
      "None\n"
     ]
    }
   ],
   "source": [
    "class Dept():\n",
    "    def __init__(self,sname,sadd,sgen,ssub):\n",
    "        self.sname=sname\n",
    "        self.sadd=sadd\n",
    "        self.sgen=sgen\n",
    "        self.ssub=ssub\n",
    "    def __str__(self):\n",
    "        return \"Hi\"\n",
    "    def speak(self,sname,sadd):\n",
    "        print(\"Hello Everyone. I am \", self.sname ,\" I am from\", self.sadd,'Thankyou')\n",
    "    def fav_sub(self):\n",
    "        print(\"My Fav subject is \",self.ssub)\n",
    "d1=Dept(\"Hema\",\"TPT\",\"Female\",\"maths\")\n",
    "d2=Dept(\"Shree\",\"VNB\",\"Female\",\"English\")\n",
    "print(d1.sname,d1.sadd,d1.sgen,d1.ssub)\n",
    "print(d1.speak(d1.sname,d1.sadd))\n",
    "print(d1.fav_sub())\n",
    "print(d2.sname,d2.sadd,d2.sgen,d2.ssub)\n",
    "print(d2.speak(d2.sname,d2.sadd))\n",
    "print(d2.fav_sub())"
   ]
  }
 ],
 "metadata": {
  "kernelspec": {
   "display_name": "Python 3",
   "language": "python",
   "name": "python3"
  },
  "language_info": {
   "codemirror_mode": {
    "name": "ipython",
    "version": 3
   },
   "file_extension": ".py",
   "mimetype": "text/x-python",
   "name": "python",
   "nbconvert_exporter": "python",
   "pygments_lexer": "ipython3",
   "version": "3.11.4"
  },
  "orig_nbformat": 4
 },
 "nbformat": 4,
 "nbformat_minor": 2
}
